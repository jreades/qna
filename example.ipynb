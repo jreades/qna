{
  "cells": [
    {
      "cell_type": "markdown",
      "metadata": {},
      "source": [
        "# Q&A Example\n",
        "\n",
        "This filter changes the output from a panel depending on the output\n",
        "format:\n",
        "\n",
        "-   Rendering to `.ipynb` you will see the question code.\n",
        "-   Rendering to `.pdf` you will see the answer.\n",
        "-   Rendering to `.html` you will see both.\n",
        "\n",
        "### Option 1\n",
        "\n",
        "#### Question\n",
        "\n",
        "How do you print out the last element of this list?\n",
        "\n",
        "``` python\n",
        "\n",
        "l = range(1,5)\n",
        "print(l[???])\n",
        "```"
      ],
      "id": "78b76202-3172-4ebf-a84e-0c29605191d7"
    }
  ],
  "nbformat": 4,
  "nbformat_minor": 5,
  "metadata": {
    "kernelspec": {
      "name": "python3",
      "display_name": "Python 3 (ipykernel)",
      "language": "python",
      "path": "/Users/jreades/anaconda3/envs/sds/share/jupyter/kernels/python3"
    }
  }
}